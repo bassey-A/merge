{
 "cells": [
  {
   "cell_type": "code",
   "execution_count": 2,
   "id": "abb86b4b",
   "metadata": {},
   "outputs": [],
   "source": [
    "import autosar as asr"
   ]
  },
  {
   "cell_type": "code",
   "execution_count": 3,
   "id": "0628dae6",
   "metadata": {},
   "outputs": [
    {
     "name": "stdout",
     "output_type": "stream",
     "text": [
      "<module 'autosar' from '/home/bassey/projects/com_merge/lib/python3.10/site-packages/autosar/__init__.py'>\n"
     ]
    }
   ],
   "source": [
    "print(autosar)"
   ]
  },
  {
   "cell_type": "code",
   "execution_count": 5,
   "id": "da162db5",
   "metadata": {},
   "outputs": [
    {
     "name": "stdout",
     "output_type": "stream",
     "text": [
      "['ABC', 'ApplicationError', 'DataElement', 'ElementTree', 'ModeGroup', 'ParameterDataPrototype', 'Template', 'Workspace', '__builtins__', '__cached__', '__doc__', '__file__', '__loader__', '__name__', '__package__', '__path__', '__spec__', '_swc_implementation', 'abstractmethod', 'autosar', 'base', 'behavior', 'bsw', 'builder', 'component', 'constant', 'datatype', 'element', 'mode', 'ntpath', 'os', 'package', 'parser', 'port', 'portinterface', 'rte', 'signal', 'splitRef', 'system', 'util', 'workspace', 'writer']\n"
     ]
    }
   ],
   "source": [
    "print(dir(autosar))"
   ]
  },
  {
   "cell_type": "code",
   "execution_count": 6,
   "id": "42685d96",
   "metadata": {},
   "outputs": [
    {
     "name": "stdout",
     "output_type": "stream",
     "text": [
      "['AdminData', 'DataConstraintError', 'ElementTree', 'InvalidBehaviorRef', 'InvalidComponentTypeRef', 'InvalidCompuMethodRef', 'InvalidDataConstraintRef', 'InvalidDataElementRef', 'InvalidDataTypeRef', 'InvalidEventSourceRef', 'InvalidInitValueRef', 'InvalidMappingRef', 'InvalidModeDeclarationGroupRef', 'InvalidModeDeclarationRef', 'InvalidModeGroupRef', 'InvalidPortInterfaceRef', 'InvalidPortRef', 'InvalidRunnableRef', 'InvalidSwAddrmethodRef', 'InvalidUnitRef', 'SpecialData', 'SpecialDataGroup', 'SwDataDefPropsConditional', 'SwPointerTargetProps', 'SymbolProps', '__builtins__', '__cached__', '__doc__', '__file__', '__loader__', '__name__', '__package__', '__spec__', 'applyFilter', 'createAdminData', 'findUniqueNameInList', 'getXMLNamespace', 'hasAdminData', 'indexByName', 'pVersion', 'parseAdminDataNode', 'parseAutosarVersionAndSchema', 'parseBoolean', 'parseBooleanNode', 'parseFloatNode', 'parseIntNode', 'parseTextNode', 'parseVersionString', 'parseXMLFile', 'prepareFilter', 're', 'removeNamespace', 'splitRef']\n"
     ]
    }
   ],
   "source": [
    "print(dir(autosar.base))"
   ]
  },
  {
   "cell_type": "code",
   "execution_count": 10,
   "id": "d575dc4a",
   "metadata": {},
   "outputs": [
    {
     "name": "stdout",
     "output_type": "stream",
     "text": [
      "/bin/bash: -c: line 2: syntax error: unexpected end of file\n"
     ]
    }
   ],
   "source": [
    "!python3.__version__()"
   ]
  },
  {
   "cell_type": "code",
   "execution_count": null,
   "id": "2b0f80aa",
   "metadata": {},
   "outputs": [],
   "source": []
  }
 ],
 "metadata": {
  "kernelspec": {
   "display_name": "com_merge",
   "language": "python",
   "name": "python3"
  },
  "language_info": {
   "codemirror_mode": {
    "name": "ipython",
    "version": 3
   },
   "file_extension": ".py",
   "mimetype": "text/x-python",
   "name": "python",
   "nbconvert_exporter": "python",
   "pygments_lexer": "ipython3",
   "version": "3.10.12"
  }
 },
 "nbformat": 4,
 "nbformat_minor": 5
}
